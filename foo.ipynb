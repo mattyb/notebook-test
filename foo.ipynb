{
 "cells": [
  {
   "cell_type": "markdown",
   "metadata": {},
   "source": [
    "This has a mixture of code definitions (classes, etc), variable assignments and markdown.\n",
    "\n",
    "It has multiple lines!"
   ]
  },
  {
   "cell_type": "code",
   "execution_count": 1,
   "metadata": {
    "collapsed": true
   },
   "outputs": [],
   "source": [
    "def foo():\n",
    "    return 'foo'"
   ]
  },
  {
   "cell_type": "code",
   "execution_count": 2,
   "metadata": {
    "collapsed": true
   },
   "outputs": [],
   "source": [
    "bar = 'hi'"
   ]
  },
  {
   "cell_type": "code",
   "execution_count": 1,
   "metadata": {
    "collapsed": true
   },
   "outputs": [],
   "source": [
    "WAT = 'boo'"
   ]
  },
  {
   "cell_type": "code",
   "execution_count": 2,
   "metadata": {
    "collapsed": true
   },
   "outputs": [],
   "source": [
    "class RAWR:\n",
    "    def rawr(self):\n",
    "       return 'rawr'"
   ]
  },
  {
   "cell_type": "code",
   "execution_count": 3,
   "metadata": {
    "collapsed": false,
    "history": [
     {
      "code": "r = RAWR()\nprint(r.rawr())",
      "response": {
       "content": {
        "name": "stdout",
        "text": "rawr\n"
       },
       "metadata": {},
       "msg_type": "stream",
       "version": "5.0"
      },
      "timestamp": "2016-11-13T16:21:19.538091"
     }
    ]
   },
   "outputs": [
    {
     "name": "stdout",
     "output_type": "stream",
     "text": [
      "rawr\n"
     ]
    }
   ],
   "source": [
    "# This will be not picked up by the defs only importer\n",
    "r = RAWR()\n",
    "print(r.rawr())"
   ]
  }
 ],
 "metadata": {
  "kernelspec": {
   "display_name": "Python 3",
   "language": "python",
   "name": "python3"
  },
  "language_info": {
   "codemirror_mode": {
    "name": "ipython",
    "version": 3
   },
   "file_extension": ".py",
   "mimetype": "text/x-python",
   "name": "python",
   "nbconvert_exporter": "python",
   "pygments_lexer": "ipython3",
   "version": "3.5.2+"
  }
 },
 "nbformat": 4,
 "nbformat_minor": 1
}
